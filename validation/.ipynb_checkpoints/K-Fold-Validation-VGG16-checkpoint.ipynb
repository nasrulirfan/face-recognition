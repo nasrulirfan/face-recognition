{
 "cells": [
  {
   "cell_type": "code",
   "execution_count": 1,
   "id": "5e907864-6f05-40a4-bcc9-4c074eaca2cd",
   "metadata": {},
   "outputs": [],
   "source": [
    "import numpy as np\n",
    "import matplotlib.pyplot as plt\n",
    "from sklearn.model_selection import StratifiedKFold\n",
    "from keras_vggface.vggface import VGGFace\n",
    "from keras.layers import Dense, Flatten\n",
    "from keras.models import Model\n",
    "from keras.optimizers import Adam\n",
    "from sklearn.datasets import fetch_lfw_people\n",
    "from sklearn.preprocessing import LabelEncoder\n",
    "from keras.utils import to_categorical\n",
    "from skimage.transform import resize\n",
    "from sklearn.metrics import roc_curve, auc, accuracy_score, precision_score, recall_score, f1_score, confusion_matrix\n",
    "import itertools"
   ]
  },
  {
   "cell_type": "code",
   "execution_count": 2,
   "id": "758031ac-203c-4d74-b123-b107d4a30ac6",
   "metadata": {},
   "outputs": [],
   "source": [
    "# Load LFW dataset\n",
    "lfw_dataset = fetch_lfw_people(min_faces_per_person=70, resize=0.4, color=True)"
   ]
  },
  {
   "cell_type": "code",
   "execution_count": 3,
   "id": "9c5d2dc6-91fd-4c44-988b-b995fa7080e2",
   "metadata": {},
   "outputs": [],
   "source": [
    "# Extract features and labels\n",
    "X = lfw_dataset.images\n",
    "y = lfw_dataset.target\n",
    "target_names = lfw_dataset.target_names"
   ]
  },
  {
   "cell_type": "code",
   "execution_count": 4,
   "id": "5e939cf8-77f6-45f1-9782-21edae0ad9d5",
   "metadata": {},
   "outputs": [],
   "source": [
    "# Resize images to match expected input size of the vggface Model (224, 224)\n",
    "X_resized = np.array([resize(image, (224, 224)) for image in X])"
   ]
  },
  {
   "cell_type": "code",
   "execution_count": 5,
   "id": "3df47eee-4424-46d7-a6a3-2d1531450025",
   "metadata": {},
   "outputs": [],
   "source": [
    "# Normalize pixel values to range [0, 1]\n",
    "X_rescaled = X_resized / 255.0"
   ]
  },
  {
   "cell_type": "code",
   "execution_count": 6,
   "id": "fef258d0-def9-4c94-932f-df124acfd9b3",
   "metadata": {},
   "outputs": [],
   "source": [
    "# Convert labels to one-hot encoding\n",
    "label_encoder = LabelEncoder()\n",
    "y_encoded = label_encoder.fit_transform(y)\n",
    "y_categorical = to_categorical(y_encoded)"
   ]
  },
  {
   "cell_type": "code",
   "execution_count": 7,
   "id": "e5ea7f9c-494f-4266-8a2f-bf3133b7d7c5",
   "metadata": {},
   "outputs": [],
   "source": [
    "hidden_dim = 512\n",
    "# Define your model\n",
    "vgg_model = VGGFace(model='vgg16', include_top=False, input_shape=(224, 224, 3))\n",
    "# x = Flatten()(base_model.output)\n",
    "# x = Dense(128, activation='relu')(x)\n",
    "# output = Dense(len(target_names), activation='softmax')(x)\n",
    "# model = Model(inputs=base_model.input, outputs=output)\n",
    "last_layer = vgg_model.get_layer('pool5').output\n",
    "x = Flatten(name='flatten')(last_layer)\n",
    "x = Dense(hidden_dim, activation='relu', name='fc6')(x)\n",
    "x = Dense(hidden_dim, activation='relu', name='fc7')(x)\n",
    "out = Dense(len(target_names), activation='softmax', name='fc8')(x)\n",
    "model = Model(vgg_model.input, out)"
   ]
  },
  {
   "cell_type": "code",
   "execution_count": 8,
   "id": "8e0ed5c9-4988-4ba2-96a1-30502a7a2b50",
   "metadata": {},
   "outputs": [],
   "source": [
    "# Compile the model\n",
    "model.compile(optimizer=Adam(), loss='categorical_crossentropy', metrics=['accuracy'])"
   ]
  },
  {
   "cell_type": "code",
   "execution_count": 9,
   "id": "d9eecd20-4b18-4205-acfc-a1984dd655ce",
   "metadata": {},
   "outputs": [],
   "source": [
    "# Configure K-Fold Cross-Validation\n",
    "num_folds = 10\n",
    "skf = StratifiedKFold(n_splits=num_folds, shuffle=True, random_state=42)"
   ]
  },
  {
   "cell_type": "code",
   "execution_count": 10,
   "id": "1ca7d49c-522d-49f7-8762-58007a797161",
   "metadata": {},
   "outputs": [],
   "source": [
    "# Initialize lists to store true positive rates and area under curve values\n",
    "tprs = []\n",
    "aucs = []\n",
    "mean_fpr = np.linspace(0, 1, 100)\n",
    "# Initialize list to store fold accuracies\n",
    "fold_accs = []\n",
    "# Initialize lists to store precision, recall, f1-score, and confusion matrices\n",
    "precisions = []\n",
    "recalls = []\n",
    "f1_scores = []\n",
    "conf_matrices = []"
   ]
  },
  {
   "cell_type": "code",
   "execution_count": 11,
   "id": "1266f2a7-a970-4cf4-848d-3c5964d5249b",
   "metadata": {},
   "outputs": [],
   "source": [
    "def plot_confusion_matrix(cm, classes, normalize=False, title='Confusion matrix', cmap=plt.cm.Blues):\n",
    "    \"\"\"\n",
    "    This function prints and plots the confusion matrix.\n",
    "    Normalization can be applied by setting `normalize=True`.\n",
    "    \"\"\"\n",
    "    if normalize:\n",
    "        cm = cm.astype('float') / cm.sum(axis=1)[:, np.newaxis]\n",
    "        print(\"Normalized confusion matrix\")\n",
    "    else:\n",
    "        print('Confusion matrix, without normalization')\n",
    "\n",
    "    plt.imshow(cm, interpolation='nearest', cmap=cmap)\n",
    "    plt.title(title)\n",
    "    plt.colorbar()\n",
    "    tick_marks = np.arange(len(classes))\n",
    "    plt.xticks(tick_marks, classes, rotation=45)\n",
    "    plt.yticks(tick_marks, classes)\n",
    "\n",
    "    fmt = '.2f' if normalize else 'd'\n",
    "    thresh = cm.max() / 2.\n",
    "    for i, j in itertools.product(range(cm.shape[0]), range(cm.shape[1])):\n",
    "        plt.text(j, i, format(cm[i, j], fmt),\n",
    "                 horizontalalignment=\"center\",\n",
    "                 color=\"white\" if cm[i, j] > thresh else \"black\")\n",
    "\n",
    "    plt.tight_layout()\n",
    "    plt.ylabel('True label')\n",
    "    plt.xlabel('Predicted label')"
   ]
  },
  {
   "cell_type": "code",
   "execution_count": 12,
   "id": "ad8229fa-daf2-4da0-b6b1-32bf0def519d",
   "metadata": {},
   "outputs": [
    {
     "name": "stdout",
     "output_type": "stream",
     "text": [
      "Fold 1/10\n",
      "Epoch 1/10\n",
      "37/37 [==============================] - 47s 590ms/step - loss: 3.2883 - accuracy: 0.3883 - val_loss: 1.7229 - val_accuracy: 0.4109\n",
      "Epoch 2/10\n",
      "37/37 [==============================] - 15s 416ms/step - loss: 1.6961 - accuracy: 0.4116 - val_loss: 1.6912 - val_accuracy: 0.4109\n",
      "Epoch 3/10\n",
      "37/37 [==============================] - 15s 416ms/step - loss: 1.6907 - accuracy: 0.4116 - val_loss: 1.6843 - val_accuracy: 0.4109\n",
      "Epoch 4/10\n",
      "37/37 [==============================] - 15s 416ms/step - loss: 1.6875 - accuracy: 0.4116 - val_loss: 1.7223 - val_accuracy: 0.4109\n",
      "Epoch 5/10\n",
      "37/37 [==============================] - 15s 416ms/step - loss: 1.7008 - accuracy: 0.4116 - val_loss: 1.6839 - val_accuracy: 0.4109\n",
      "Epoch 6/10\n",
      "37/37 [==============================] - 15s 416ms/step - loss: 1.6885 - accuracy: 0.4116 - val_loss: 1.6825 - val_accuracy: 0.4109\n",
      "Epoch 7/10\n",
      "37/37 [==============================] - 15s 416ms/step - loss: 1.6948 - accuracy: 0.4116 - val_loss: 1.6829 - val_accuracy: 0.4109\n",
      "Epoch 8/10\n",
      "37/37 [==============================] - 15s 416ms/step - loss: 1.6880 - accuracy: 0.4116 - val_loss: 1.6822 - val_accuracy: 0.4109\n",
      "Epoch 9/10\n",
      "37/37 [==============================] - 15s 416ms/step - loss: 1.6878 - accuracy: 0.4116 - val_loss: 1.6897 - val_accuracy: 0.4109\n",
      "Epoch 10/10\n",
      "37/37 [==============================] - 15s 415ms/step - loss: 1.6878 - accuracy: 0.4116 - val_loss: 1.6846 - val_accuracy: 0.4109\n",
      "5/5 [==============================] - 0s 71ms/step - loss: 1.6846 - accuracy: 0.4109\n",
      "5/5 [==============================] - 0s 89ms/step\n",
      "Fold 2/10\n"
     ]
    },
    {
     "name": "stderr",
     "output_type": "stream",
     "text": [
      "c:\\Users\\mynam\\OneDrive\\Desktop\\face-recognition\\.conda\\lib\\site-packages\\sklearn\\metrics\\_classification.py:1509: UndefinedMetricWarning: Precision is ill-defined and being set to 0.0 in labels with no predicted samples. Use `zero_division` parameter to control this behavior.\n",
      "  _warn_prf(average, modifier, f\"{metric.capitalize()} is\", len(result))\n"
     ]
    },
    {
     "name": "stdout",
     "output_type": "stream",
     "text": [
      "Epoch 1/10\n",
      "37/37 [==============================] - 15s 417ms/step - loss: 1.6859 - accuracy: 0.4116 - val_loss: 1.6865 - val_accuracy: 0.4109\n",
      "Epoch 2/10\n",
      "37/37 [==============================] - 15s 416ms/step - loss: 1.6888 - accuracy: 0.4116 - val_loss: 1.6853 - val_accuracy: 0.4109\n",
      "Epoch 3/10\n",
      "37/37 [==============================] - 15s 415ms/step - loss: 1.6856 - accuracy: 0.4116 - val_loss: 1.6911 - val_accuracy: 0.4109\n",
      "Epoch 4/10\n",
      "37/37 [==============================] - 15s 416ms/step - loss: 1.6870 - accuracy: 0.4116 - val_loss: 1.6860 - val_accuracy: 0.4109\n",
      "Epoch 5/10\n",
      "37/37 [==============================] - 15s 416ms/step - loss: 1.6918 - accuracy: 0.4116 - val_loss: 1.6983 - val_accuracy: 0.4109\n",
      "Epoch 6/10\n",
      "37/37 [==============================] - 15s 418ms/step - loss: 1.6878 - accuracy: 0.4116 - val_loss: 1.6851 - val_accuracy: 0.4109\n",
      "Epoch 7/10\n",
      "37/37 [==============================] - 15s 416ms/step - loss: 1.6937 - accuracy: 0.4116 - val_loss: 1.6983 - val_accuracy: 0.4109\n",
      "Epoch 8/10\n",
      "37/37 [==============================] - 15s 416ms/step - loss: 1.6858 - accuracy: 0.4116 - val_loss: 1.6850 - val_accuracy: 0.4109\n",
      "Epoch 9/10\n",
      "37/37 [==============================] - 15s 416ms/step - loss: 1.6825 - accuracy: 0.4116 - val_loss: 1.6890 - val_accuracy: 0.4109\n",
      "Epoch 10/10\n",
      "37/37 [==============================] - 16s 428ms/step - loss: 1.6901 - accuracy: 0.4116 - val_loss: 1.6914 - val_accuracy: 0.4109\n",
      "5/5 [==============================] - 0s 77ms/step - loss: 1.6914 - accuracy: 0.4109\n",
      "5/5 [==============================] - 0s 96ms/step\n",
      "Fold 3/10\n"
     ]
    },
    {
     "name": "stderr",
     "output_type": "stream",
     "text": [
      "c:\\Users\\mynam\\OneDrive\\Desktop\\face-recognition\\.conda\\lib\\site-packages\\sklearn\\metrics\\_classification.py:1509: UndefinedMetricWarning: Precision is ill-defined and being set to 0.0 in labels with no predicted samples. Use `zero_division` parameter to control this behavior.\n",
      "  _warn_prf(average, modifier, f\"{metric.capitalize()} is\", len(result))\n"
     ]
    },
    {
     "name": "stdout",
     "output_type": "stream",
     "text": [
      "Epoch 1/10\n",
      "37/37 [==============================] - 15s 416ms/step - loss: 1.6869 - accuracy: 0.4116 - val_loss: 1.6944 - val_accuracy: 0.4109\n",
      "Epoch 2/10\n",
      "37/37 [==============================] - 15s 415ms/step - loss: 1.6855 - accuracy: 0.4116 - val_loss: 1.6938 - val_accuracy: 0.4109\n",
      "Epoch 3/10\n",
      "37/37 [==============================] - 15s 414ms/step - loss: 1.6855 - accuracy: 0.4116 - val_loss: 1.6880 - val_accuracy: 0.4109\n",
      "Epoch 4/10\n",
      "37/37 [==============================] - 15s 415ms/step - loss: 1.6854 - accuracy: 0.4116 - val_loss: 1.6864 - val_accuracy: 0.4109\n",
      "Epoch 5/10\n",
      "37/37 [==============================] - 15s 414ms/step - loss: 1.6839 - accuracy: 0.4116 - val_loss: 1.6869 - val_accuracy: 0.4109\n",
      "Epoch 6/10\n",
      "37/37 [==============================] - 15s 415ms/step - loss: 1.6843 - accuracy: 0.4116 - val_loss: 1.6858 - val_accuracy: 0.4109\n",
      "Epoch 7/10\n",
      "37/37 [==============================] - 15s 415ms/step - loss: 1.6838 - accuracy: 0.4116 - val_loss: 1.6870 - val_accuracy: 0.4109\n",
      "Epoch 8/10\n",
      "37/37 [==============================] - 15s 414ms/step - loss: 1.6865 - accuracy: 0.4116 - val_loss: 1.6883 - val_accuracy: 0.4109\n",
      "Epoch 9/10\n",
      "37/37 [==============================] - 15s 414ms/step - loss: 1.6831 - accuracy: 0.4116 - val_loss: 1.6866 - val_accuracy: 0.4109\n",
      "Epoch 10/10\n",
      "37/37 [==============================] - 15s 414ms/step - loss: 1.6837 - accuracy: 0.4116 - val_loss: 1.6876 - val_accuracy: 0.4109\n",
      "5/5 [==============================] - 0s 70ms/step - loss: 1.6876 - accuracy: 0.4109\n",
      "5/5 [==============================] - 0s 88ms/step\n",
      "Fold 4/10\n"
     ]
    },
    {
     "name": "stderr",
     "output_type": "stream",
     "text": [
      "c:\\Users\\mynam\\OneDrive\\Desktop\\face-recognition\\.conda\\lib\\site-packages\\sklearn\\metrics\\_classification.py:1509: UndefinedMetricWarning: Precision is ill-defined and being set to 0.0 in labels with no predicted samples. Use `zero_division` parameter to control this behavior.\n",
      "  _warn_prf(average, modifier, f\"{metric.capitalize()} is\", len(result))\n"
     ]
    },
    {
     "name": "stdout",
     "output_type": "stream",
     "text": [
      "Epoch 1/10\n",
      "37/37 [==============================] - 15s 417ms/step - loss: 1.6845 - accuracy: 0.4116 - val_loss: 1.6873 - val_accuracy: 0.4109\n",
      "Epoch 2/10\n",
      "37/37 [==============================] - 15s 414ms/step - loss: 1.6846 - accuracy: 0.4116 - val_loss: 1.6863 - val_accuracy: 0.4109\n",
      "Epoch 3/10\n",
      "37/37 [==============================] - 15s 415ms/step - loss: 1.6842 - accuracy: 0.4116 - val_loss: 1.6854 - val_accuracy: 0.4109\n",
      "Epoch 4/10\n",
      "37/37 [==============================] - 15s 414ms/step - loss: 1.6867 - accuracy: 0.4116 - val_loss: 1.6858 - val_accuracy: 0.4109\n",
      "Epoch 5/10\n",
      "37/37 [==============================] - 15s 414ms/step - loss: 1.6827 - accuracy: 0.4116 - val_loss: 1.6859 - val_accuracy: 0.4109\n",
      "Epoch 6/10\n",
      "37/37 [==============================] - 15s 415ms/step - loss: 1.6848 - accuracy: 0.4116 - val_loss: 1.6868 - val_accuracy: 0.4109\n",
      "Epoch 7/10\n",
      "37/37 [==============================] - 15s 415ms/step - loss: 1.6840 - accuracy: 0.4116 - val_loss: 1.6849 - val_accuracy: 0.4109\n",
      "Epoch 8/10\n",
      "37/37 [==============================] - 15s 415ms/step - loss: 1.6824 - accuracy: 0.4116 - val_loss: 1.6906 - val_accuracy: 0.4109\n",
      "Epoch 9/10\n",
      "37/37 [==============================] - 15s 414ms/step - loss: 1.6825 - accuracy: 0.4116 - val_loss: 1.6869 - val_accuracy: 0.4109\n",
      "Epoch 10/10\n",
      "37/37 [==============================] - 15s 418ms/step - loss: 1.6831 - accuracy: 0.4116 - val_loss: 1.6853 - val_accuracy: 0.4109\n",
      "5/5 [==============================] - 0s 69ms/step - loss: 1.6853 - accuracy: 0.4109\n",
      "5/5 [==============================] - 0s 87ms/step\n",
      "Fold 5/10\n"
     ]
    },
    {
     "name": "stderr",
     "output_type": "stream",
     "text": [
      "c:\\Users\\mynam\\OneDrive\\Desktop\\face-recognition\\.conda\\lib\\site-packages\\sklearn\\metrics\\_classification.py:1509: UndefinedMetricWarning: Precision is ill-defined and being set to 0.0 in labels with no predicted samples. Use `zero_division` parameter to control this behavior.\n",
      "  _warn_prf(average, modifier, f\"{metric.capitalize()} is\", len(result))\n"
     ]
    },
    {
     "name": "stdout",
     "output_type": "stream",
     "text": [
      "Epoch 1/10\n",
      "37/37 [==============================] - 15s 412ms/step - loss: 1.6837 - accuracy: 0.4116 - val_loss: 1.6850 - val_accuracy: 0.4109\n",
      "Epoch 2/10\n",
      "37/37 [==============================] - 15s 411ms/step - loss: 1.6826 - accuracy: 0.4116 - val_loss: 1.6849 - val_accuracy: 0.4109\n",
      "Epoch 3/10\n",
      "37/37 [==============================] - 15s 411ms/step - loss: 1.6826 - accuracy: 0.4116 - val_loss: 1.6860 - val_accuracy: 0.4109\n",
      "Epoch 4/10\n",
      "37/37 [==============================] - 15s 411ms/step - loss: 1.6857 - accuracy: 0.4116 - val_loss: 1.6867 - val_accuracy: 0.4109\n",
      "Epoch 5/10\n",
      "37/37 [==============================] - 15s 410ms/step - loss: 1.6828 - accuracy: 0.4116 - val_loss: 1.6848 - val_accuracy: 0.4109\n",
      "Epoch 6/10\n",
      "37/37 [==============================] - 15s 410ms/step - loss: 1.6817 - accuracy: 0.4116 - val_loss: 1.6855 - val_accuracy: 0.4109\n",
      "Epoch 7/10\n",
      "37/37 [==============================] - 15s 410ms/step - loss: 1.6835 - accuracy: 0.4116 - val_loss: 1.6850 - val_accuracy: 0.4109\n",
      "Epoch 8/10\n",
      "37/37 [==============================] - 15s 411ms/step - loss: 1.6829 - accuracy: 0.4116 - val_loss: 1.6862 - val_accuracy: 0.4109\n",
      "Epoch 9/10\n",
      "37/37 [==============================] - 15s 411ms/step - loss: 1.6826 - accuracy: 0.4116 - val_loss: 1.6854 - val_accuracy: 0.4109\n",
      "Epoch 10/10\n",
      "37/37 [==============================] - 15s 410ms/step - loss: 1.6825 - accuracy: 0.4116 - val_loss: 1.6859 - val_accuracy: 0.4109\n",
      "5/5 [==============================] - 0s 69ms/step - loss: 1.6859 - accuracy: 0.4109\n",
      "5/5 [==============================] - 0s 87ms/step\n",
      "Fold 6/10\n"
     ]
    },
    {
     "name": "stderr",
     "output_type": "stream",
     "text": [
      "c:\\Users\\mynam\\OneDrive\\Desktop\\face-recognition\\.conda\\lib\\site-packages\\sklearn\\metrics\\_classification.py:1509: UndefinedMetricWarning: Precision is ill-defined and being set to 0.0 in labels with no predicted samples. Use `zero_division` parameter to control this behavior.\n",
      "  _warn_prf(average, modifier, f\"{metric.capitalize()} is\", len(result))\n"
     ]
    },
    {
     "name": "stdout",
     "output_type": "stream",
     "text": [
      "Epoch 1/10\n",
      "37/37 [==============================] - 15s 412ms/step - loss: 1.6851 - accuracy: 0.4116 - val_loss: 1.6812 - val_accuracy: 0.4109\n",
      "Epoch 2/10\n",
      "37/37 [==============================] - 15s 411ms/step - loss: 1.6832 - accuracy: 0.4116 - val_loss: 1.6813 - val_accuracy: 0.4109\n",
      "Epoch 3/10\n",
      "37/37 [==============================] - 15s 411ms/step - loss: 1.6818 - accuracy: 0.4116 - val_loss: 1.6818 - val_accuracy: 0.4109\n",
      "Epoch 4/10\n",
      "37/37 [==============================] - 15s 411ms/step - loss: 1.6835 - accuracy: 0.4116 - val_loss: 1.6809 - val_accuracy: 0.4109\n",
      "Epoch 5/10\n",
      "37/37 [==============================] - 15s 413ms/step - loss: 1.6849 - accuracy: 0.4116 - val_loss: 1.6817 - val_accuracy: 0.4109\n",
      "Epoch 6/10\n",
      "37/37 [==============================] - 15s 411ms/step - loss: 1.6827 - accuracy: 0.4116 - val_loss: 1.6813 - val_accuracy: 0.4109\n",
      "Epoch 7/10\n",
      "37/37 [==============================] - 15s 411ms/step - loss: 1.6824 - accuracy: 0.4116 - val_loss: 1.6810 - val_accuracy: 0.4109\n",
      "Epoch 8/10\n",
      "37/37 [==============================] - 15s 410ms/step - loss: 1.6829 - accuracy: 0.4116 - val_loss: 1.6809 - val_accuracy: 0.4109\n",
      "Epoch 9/10\n",
      "37/37 [==============================] - 15s 411ms/step - loss: 1.6836 - accuracy: 0.4116 - val_loss: 1.6814 - val_accuracy: 0.4109\n",
      "Epoch 10/10\n",
      "37/37 [==============================] - 15s 411ms/step - loss: 1.6843 - accuracy: 0.4116 - val_loss: 1.6825 - val_accuracy: 0.4109\n",
      "5/5 [==============================] - 0s 69ms/step - loss: 1.6825 - accuracy: 0.4109\n",
      "5/5 [==============================] - 0s 87ms/step\n",
      "Fold 7/10\n"
     ]
    },
    {
     "name": "stderr",
     "output_type": "stream",
     "text": [
      "c:\\Users\\mynam\\OneDrive\\Desktop\\face-recognition\\.conda\\lib\\site-packages\\sklearn\\metrics\\_classification.py:1509: UndefinedMetricWarning: Precision is ill-defined and being set to 0.0 in labels with no predicted samples. Use `zero_division` parameter to control this behavior.\n",
      "  _warn_prf(average, modifier, f\"{metric.capitalize()} is\", len(result))\n"
     ]
    },
    {
     "name": "stdout",
     "output_type": "stream",
     "text": [
      "Epoch 1/10\n",
      "37/37 [==============================] - 15s 413ms/step - loss: 1.6839 - accuracy: 0.4116 - val_loss: 1.6808 - val_accuracy: 0.4109\n",
      "Epoch 2/10\n",
      "37/37 [==============================] - 15s 410ms/step - loss: 1.6822 - accuracy: 0.4116 - val_loss: 1.6809 - val_accuracy: 0.4109\n",
      "Epoch 3/10\n",
      "37/37 [==============================] - 15s 411ms/step - loss: 1.6835 - accuracy: 0.4116 - val_loss: 1.6814 - val_accuracy: 0.4109\n",
      "Epoch 4/10\n",
      "37/37 [==============================] - 15s 410ms/step - loss: 1.6831 - accuracy: 0.4116 - val_loss: 1.6817 - val_accuracy: 0.4109\n",
      "Epoch 5/10\n",
      "37/37 [==============================] - 15s 410ms/step - loss: 1.6832 - accuracy: 0.4116 - val_loss: 1.6814 - val_accuracy: 0.4109\n",
      "Epoch 6/10\n",
      "37/37 [==============================] - 15s 410ms/step - loss: 1.6837 - accuracy: 0.4116 - val_loss: 1.6809 - val_accuracy: 0.4109\n",
      "Epoch 7/10\n",
      "37/37 [==============================] - 15s 410ms/step - loss: 1.6827 - accuracy: 0.4116 - val_loss: 1.6812 - val_accuracy: 0.4109\n",
      "Epoch 8/10\n",
      "37/37 [==============================] - 15s 410ms/step - loss: 1.6828 - accuracy: 0.4116 - val_loss: 1.6809 - val_accuracy: 0.4109\n",
      "Epoch 9/10\n",
      "37/37 [==============================] - 15s 410ms/step - loss: 1.6827 - accuracy: 0.4116 - val_loss: 1.6813 - val_accuracy: 0.4109\n",
      "Epoch 10/10\n",
      "37/37 [==============================] - 15s 410ms/step - loss: 1.6829 - accuracy: 0.4116 - val_loss: 1.6811 - val_accuracy: 0.4109\n",
      "5/5 [==============================] - 0s 69ms/step - loss: 1.6811 - accuracy: 0.4109\n",
      "5/5 [==============================] - 0s 87ms/step\n",
      "Fold 8/10\n"
     ]
    },
    {
     "name": "stderr",
     "output_type": "stream",
     "text": [
      "c:\\Users\\mynam\\OneDrive\\Desktop\\face-recognition\\.conda\\lib\\site-packages\\sklearn\\metrics\\_classification.py:1509: UndefinedMetricWarning: Precision is ill-defined and being set to 0.0 in labels with no predicted samples. Use `zero_division` parameter to control this behavior.\n",
      "  _warn_prf(average, modifier, f\"{metric.capitalize()} is\", len(result))\n"
     ]
    },
    {
     "name": "stdout",
     "output_type": "stream",
     "text": [
      "Epoch 1/10\n",
      "37/37 [==============================] - 15s 411ms/step - loss: 1.6830 - accuracy: 0.4116 - val_loss: 1.6804 - val_accuracy: 0.4109\n",
      "Epoch 2/10\n",
      "37/37 [==============================] - 15s 410ms/step - loss: 1.6830 - accuracy: 0.4116 - val_loss: 1.6802 - val_accuracy: 0.4109\n",
      "Epoch 3/10\n",
      "37/37 [==============================] - 15s 410ms/step - loss: 1.6827 - accuracy: 0.4116 - val_loss: 1.6802 - val_accuracy: 0.4109\n",
      "Epoch 4/10\n",
      "37/37 [==============================] - 15s 410ms/step - loss: 1.6845 - accuracy: 0.4116 - val_loss: 1.6806 - val_accuracy: 0.4109\n",
      "Epoch 5/10\n",
      "37/37 [==============================] - 15s 410ms/step - loss: 1.6827 - accuracy: 0.4116 - val_loss: 1.6804 - val_accuracy: 0.4109\n",
      "Epoch 6/10\n",
      "37/37 [==============================] - 15s 410ms/step - loss: 1.6834 - accuracy: 0.4116 - val_loss: 1.6799 - val_accuracy: 0.4109\n",
      "Epoch 7/10\n",
      "37/37 [==============================] - 15s 410ms/step - loss: 1.6829 - accuracy: 0.4116 - val_loss: 1.6811 - val_accuracy: 0.4109\n",
      "Epoch 8/10\n",
      "37/37 [==============================] - 15s 410ms/step - loss: 1.6840 - accuracy: 0.4116 - val_loss: 1.6805 - val_accuracy: 0.4109\n",
      "Epoch 9/10\n",
      "37/37 [==============================] - 15s 410ms/step - loss: 1.6831 - accuracy: 0.4116 - val_loss: 1.6814 - val_accuracy: 0.4109\n",
      "Epoch 10/10\n",
      "37/37 [==============================] - 15s 410ms/step - loss: 1.6827 - accuracy: 0.4116 - val_loss: 1.6807 - val_accuracy: 0.4109\n",
      "5/5 [==============================] - 0s 69ms/step - loss: 1.6807 - accuracy: 0.4109\n",
      "5/5 [==============================] - 0s 87ms/step\n",
      "Fold 9/10\n"
     ]
    },
    {
     "name": "stderr",
     "output_type": "stream",
     "text": [
      "c:\\Users\\mynam\\OneDrive\\Desktop\\face-recognition\\.conda\\lib\\site-packages\\sklearn\\metrics\\_classification.py:1509: UndefinedMetricWarning: Precision is ill-defined and being set to 0.0 in labels with no predicted samples. Use `zero_division` parameter to control this behavior.\n",
      "  _warn_prf(average, modifier, f\"{metric.capitalize()} is\", len(result))\n"
     ]
    },
    {
     "name": "stdout",
     "output_type": "stream",
     "text": [
      "Epoch 1/10\n",
      "37/37 [==============================] - 21s 578ms/step - loss: 1.6836 - accuracy: 0.4112 - val_loss: 1.6721 - val_accuracy: 0.4141\n",
      "Epoch 2/10\n",
      "37/37 [==============================] - 15s 410ms/step - loss: 1.6841 - accuracy: 0.4112 - val_loss: 1.6720 - val_accuracy: 0.4141\n",
      "Epoch 3/10\n",
      "37/37 [==============================] - 15s 410ms/step - loss: 1.6840 - accuracy: 0.4112 - val_loss: 1.6720 - val_accuracy: 0.4141\n",
      "Epoch 4/10\n",
      "37/37 [==============================] - 15s 410ms/step - loss: 1.6837 - accuracy: 0.4112 - val_loss: 1.6729 - val_accuracy: 0.4141\n",
      "Epoch 5/10\n",
      "37/37 [==============================] - 15s 410ms/step - loss: 1.6846 - accuracy: 0.4112 - val_loss: 1.6725 - val_accuracy: 0.4141\n",
      "Epoch 6/10\n",
      "37/37 [==============================] - 15s 410ms/step - loss: 1.6827 - accuracy: 0.4112 - val_loss: 1.6724 - val_accuracy: 0.4141\n",
      "Epoch 7/10\n",
      "37/37 [==============================] - 15s 410ms/step - loss: 1.6843 - accuracy: 0.4112 - val_loss: 1.6723 - val_accuracy: 0.4141\n",
      "Epoch 8/10\n",
      "37/37 [==============================] - 17s 448ms/step - loss: 1.6841 - accuracy: 0.4112 - val_loss: 1.6721 - val_accuracy: 0.4141\n",
      "Epoch 9/10\n",
      "37/37 [==============================] - 16s 441ms/step - loss: 1.6840 - accuracy: 0.4112 - val_loss: 1.6723 - val_accuracy: 0.4141\n",
      "Epoch 10/10\n",
      "37/37 [==============================] - 15s 412ms/step - loss: 1.6844 - accuracy: 0.4112 - val_loss: 1.6724 - val_accuracy: 0.4141\n",
      "4/4 [==============================] - 0s 91ms/step - loss: 1.6724 - accuracy: 0.4141\n",
      "4/4 [==============================] - 0s 88ms/step\n",
      "Fold 10/10\n"
     ]
    },
    {
     "name": "stderr",
     "output_type": "stream",
     "text": [
      "c:\\Users\\mynam\\OneDrive\\Desktop\\face-recognition\\.conda\\lib\\site-packages\\sklearn\\metrics\\_classification.py:1509: UndefinedMetricWarning: Precision is ill-defined and being set to 0.0 in labels with no predicted samples. Use `zero_division` parameter to control this behavior.\n",
      "  _warn_prf(average, modifier, f\"{metric.capitalize()} is\", len(result))\n"
     ]
    },
    {
     "name": "stdout",
     "output_type": "stream",
     "text": [
      "Epoch 1/10\n",
      "37/37 [==============================] - 15s 414ms/step - loss: 1.6843 - accuracy: 0.4112 - val_loss: 1.6726 - val_accuracy: 0.4141\n",
      "Epoch 2/10\n",
      "37/37 [==============================] - 15s 413ms/step - loss: 1.6833 - accuracy: 0.4112 - val_loss: 1.6722 - val_accuracy: 0.4141\n",
      "Epoch 3/10\n",
      "37/37 [==============================] - 16s 421ms/step - loss: 1.6838 - accuracy: 0.4112 - val_loss: 1.6723 - val_accuracy: 0.4141\n",
      "Epoch 4/10\n",
      "37/37 [==============================] - 15s 416ms/step - loss: 1.6850 - accuracy: 0.4112 - val_loss: 1.6723 - val_accuracy: 0.4141\n",
      "Epoch 5/10\n",
      "37/37 [==============================] - 15s 414ms/step - loss: 1.6836 - accuracy: 0.4112 - val_loss: 1.6720 - val_accuracy: 0.4141\n",
      "Epoch 6/10\n",
      "37/37 [==============================] - 15s 414ms/step - loss: 1.6837 - accuracy: 0.4112 - val_loss: 1.6721 - val_accuracy: 0.4141\n",
      "Epoch 7/10\n",
      "37/37 [==============================] - 15s 414ms/step - loss: 1.6842 - accuracy: 0.4112 - val_loss: 1.6728 - val_accuracy: 0.4141\n",
      "Epoch 8/10\n",
      "37/37 [==============================] - 15s 414ms/step - loss: 1.6835 - accuracy: 0.4112 - val_loss: 1.6723 - val_accuracy: 0.4141\n",
      "Epoch 9/10\n",
      "37/37 [==============================] - 15s 414ms/step - loss: 1.6834 - accuracy: 0.4112 - val_loss: 1.6718 - val_accuracy: 0.4141\n",
      "Epoch 10/10\n",
      "37/37 [==============================] - 15s 413ms/step - loss: 1.6844 - accuracy: 0.4112 - val_loss: 1.6722 - val_accuracy: 0.4141\n",
      "4/4 [==============================] - 0s 91ms/step - loss: 1.6722 - accuracy: 0.4141\n",
      "4/4 [==============================] - 0s 89ms/step\n"
     ]
    },
    {
     "name": "stderr",
     "output_type": "stream",
     "text": [
      "c:\\Users\\mynam\\OneDrive\\Desktop\\face-recognition\\.conda\\lib\\site-packages\\sklearn\\metrics\\_classification.py:1509: UndefinedMetricWarning: Precision is ill-defined and being set to 0.0 in labels with no predicted samples. Use `zero_division` parameter to control this behavior.\n",
      "  _warn_prf(average, modifier, f\"{metric.capitalize()} is\", len(result))\n"
     ]
    }
   ],
   "source": [
    "# Training and Evaluation Loop\n",
    "\n",
    "for fold, (train_index, val_index) in enumerate(skf.split(X_rescaled, y)):\n",
    "    print(f\"Fold {fold+1}/{num_folds}\")\n",
    "    X_train, X_val = X_rescaled[train_index], X_rescaled[val_index]\n",
    "    y_train, y_val = y_categorical[train_index], y_categorical[val_index]\n",
    "\n",
    "    # Train the model\n",
    "    model.fit(X_train, y_train, epochs=10, batch_size=32, validation_data=(X_val, y_val))\n",
    "\n",
    "    # Evaluate the model\n",
    "    _, accuracy = model.evaluate(X_val, y_val)\n",
    "    fold_accs.append(accuracy)\n",
    "\n",
    "    # Compute predicted probabilities\n",
    "    y_prob = model.predict(X_val)\n",
    "    y_pred = np.argmax(y_prob, axis=1)\n",
    "\n",
    "    # Compute ROC curve and area under the curve\n",
    "    fpr, tpr, thresholds = roc_curve(y_val[:, 1], y_prob[:, 1])\n",
    "    roc_auc = auc(fpr, tpr)\n",
    "\n",
    "    # Interpolate tpr to match mean_fpr\n",
    "    interp_tpr = np.interp(mean_fpr, fpr, tpr)\n",
    "\n",
    "    # Append tpr and auc to lists\n",
    "    tprs.append(interp_tpr)\n",
    "    aucs.append(roc_auc)\n",
    "\n",
    "    # Compute precision, recall, f1-score, and confusion matrix\n",
    "    precision = precision_score(np.argmax(y_val, axis=1), y_pred, average='weighted')\n",
    "    recall = recall_score(np.argmax(y_val, axis=1), y_pred, average='weighted')\n",
    "    f1 = f1_score(np.argmax(y_val, axis=1), y_pred, average='weighted')\n",
    "    conf_matrix = confusion_matrix(np.argmax(y_val, axis=1), y_pred)\n",
    "\n",
    "    # Append precision, recall, f1-score, and confusion matrix to lists\n",
    "    precisions.append(precision)\n",
    "    recalls.append(recall)\n",
    "    f1_scores.append(f1)\n",
    "    conf_matrices.append(conf_matrix)"
   ]
  },
  {
   "cell_type": "code",
   "execution_count": 13,
   "id": "5a8c6ee5-1b44-4537-af79-1e3b25186f4f",
   "metadata": {},
   "outputs": [
    {
     "name": "stdout",
     "output_type": "stream",
     "text": [
      "Normalized confusion matrix\n"
     ]
    },
    {
     "data": {
      "image/png": "[encoded data removed]",
      "text/plain": [
       "<Figure size 640x480 with 2 Axes>"
      ]
     },
     "metadata": {},
     "output_type": "display_data"
    }
   ],
   "source": [
    "# Plot the summed confusion matrix\n",
    "sum_conf_matrix = np.sum(conf_matrices, axis=0)\n",
    "plt.figure()\n",
    "plot_confusion_matrix(sum_conf_matrix, classes=target_names, normalize=True,\n",
    "                      title='Summed Fold Confusion Matrix')"
   ]
  },
  {
   "cell_type": "code",
   "execution_count": 14,
   "id": "cf9a48fb-c9c4-44c5-b7e4-2102e92b7edc",
   "metadata": {},
   "outputs": [
    {
     "name": "stdout",
     "output_type": "stream",
     "text": [
      "Mean Accuracy: 0.41149466037750243\n",
      "Mean Precisions: 0.1693295123220228\n",
      "Mean Recalls: 0.4114946705426357\n",
      "Mean F1 Score: 0.23992820332800097\n"
     ]
    }
   ],
   "source": [
    "# Compute mean accuracy, precision, recall, f1-score\n",
    "mean_accuracy = np.mean(fold_accs)\n",
    "mean_precisions = np.mean(precisions)\n",
    "mean_recalls = np.mean(recalls)\n",
    "mean_f1_scores = np.mean(f1_scores)\n",
    "print(f\"Mean Accuracy: {mean_accuracy}\")\n",
    "print(f\"Mean Precisions: {mean_precisions}\")\n",
    "print(f\"Mean Recalls: {mean_recalls}\")\n",
    "print(f\"Mean F1 Score: {mean_f1_scores}\")\n"
   ]
  },
  {
   "cell_type": "code",
   "execution_count": 15,
   "id": "2a759de5-0fa0-4550-acd5-e14771628a1c",
   "metadata": {},
   "outputs": [
    {
     "name": "stdout",
     "output_type": "stream",
     "text": [
      "\n",
      "Fold 1:\n",
      "Precision: 0.168799951925966\n",
      "Recall: 0.4108527131782946\n",
      "F1-Score: 0.23928784393900673\n",
      "Confusion Matrix:\n",
      "[[ 0  0  0  7  0  0  0]\n",
      " [ 0  0  0 24  0  0  0]\n",
      " [ 0  0  0 12  0  0  0]\n",
      " [ 0  0  0 53  0  0  0]\n",
      " [ 0  0  0 11  0  0  0]\n",
      " [ 0  0  0  8  0  0  0]\n",
      " [ 0  0  0 14  0  0  0]]\n",
      "\n",
      "Fold 2:\n",
      "Precision: 0.168799951925966\n",
      "Recall: 0.4108527131782946\n",
      "F1-Score: 0.23928784393900673\n",
      "Confusion Matrix:\n",
      "[[ 0  0  0  8  0  0  0]\n",
      " [ 0  0  0 23  0  0  0]\n",
      " [ 0  0  0 12  0  0  0]\n",
      " [ 0  0  0 53  0  0  0]\n",
      " [ 0  0  0 11  0  0  0]\n",
      " [ 0  0  0  7  0  0  0]\n",
      " [ 0  0  0 15  0  0  0]]\n",
      "\n",
      "Fold 3:\n",
      "Precision: 0.168799951925966\n",
      "Recall: 0.4108527131782946\n",
      "F1-Score: 0.23928784393900673\n",
      "Confusion Matrix:\n",
      "[[ 0  0  0  8  0  0  0]\n",
      " [ 0  0  0 23  0  0  0]\n",
      " [ 0  0  0 12  0  0  0]\n",
      " [ 0  0  0 53  0  0  0]\n",
      " [ 0  0  0 11  0  0  0]\n",
      " [ 0  0  0  7  0  0  0]\n",
      " [ 0  0  0 15  0  0  0]]\n",
      "\n",
      "Fold 4:\n",
      "Precision: 0.168799951925966\n",
      "Recall: 0.4108527131782946\n",
      "F1-Score: 0.23928784393900673\n",
      "Confusion Matrix:\n",
      "[[ 0  0  0  8  0  0  0]\n",
      " [ 0  0  0 23  0  0  0]\n",
      " [ 0  0  0 12  0  0  0]\n",
      " [ 0  0  0 53  0  0  0]\n",
      " [ 0  0  0 11  0  0  0]\n",
      " [ 0  0  0  7  0  0  0]\n",
      " [ 0  0  0 15  0  0  0]]\n",
      "\n",
      "Fold 5:\n",
      "Precision: 0.168799951925966\n",
      "Recall: 0.4108527131782946\n",
      "F1-Score: 0.23928784393900673\n",
      "Confusion Matrix:\n",
      "[[ 0  0  0  8  0  0  0]\n",
      " [ 0  0  0 23  0  0  0]\n",
      " [ 0  0  0 12  0  0  0]\n",
      " [ 0  0  0 53  0  0  0]\n",
      " [ 0  0  0 11  0  0  0]\n",
      " [ 0  0  0  7  0  0  0]\n",
      " [ 0  0  0 15  0  0  0]]\n",
      "\n",
      "Fold 6:\n",
      "Precision: 0.168799951925966\n",
      "Recall: 0.4108527131782946\n",
      "F1-Score: 0.23928784393900673\n",
      "Confusion Matrix:\n",
      "[[ 0  0  0  8  0  0  0]\n",
      " [ 0  0  0 24  0  0  0]\n",
      " [ 0  0  0 12  0  0  0]\n",
      " [ 0  0  0 53  0  0  0]\n",
      " [ 0  0  0 11  0  0  0]\n",
      " [ 0  0  0  7  0  0  0]\n",
      " [ 0  0  0 14  0  0  0]]\n",
      "\n",
      "Fold 7:\n",
      "Precision: 0.168799951925966\n",
      "Recall: 0.4108527131782946\n",
      "F1-Score: 0.23928784393900673\n",
      "Confusion Matrix:\n",
      "[[ 0  0  0  8  0  0  0]\n",
      " [ 0  0  0 24  0  0  0]\n",
      " [ 0  0  0 12  0  0  0]\n",
      " [ 0  0  0 53  0  0  0]\n",
      " [ 0  0  0 11  0  0  0]\n",
      " [ 0  0  0  7  0  0  0]\n",
      " [ 0  0  0 14  0  0  0]]\n",
      "\n",
      "Fold 8:\n",
      "Precision: 0.168799951925966\n",
      "Recall: 0.4108527131782946\n",
      "F1-Score: 0.23928784393900673\n",
      "Confusion Matrix:\n",
      "[[ 0  0  0  8  0  0  0]\n",
      " [ 0  0  0 24  0  0  0]\n",
      " [ 0  0  0 13  0  0  0]\n",
      " [ 0  0  0 53  0  0  0]\n",
      " [ 0  0  0 10  0  0  0]\n",
      " [ 0  0  0  7  0  0  0]\n",
      " [ 0  0  0 14  0  0  0]]\n",
      "\n",
      "Fold 9:\n",
      "Precision: 0.17144775390625\n",
      "Recall: 0.4140625\n",
      "F1-Score: 0.24248964088397787\n",
      "Confusion Matrix:\n",
      "[[ 0  0  0  7  0  0  0]\n",
      " [ 0  0  0 24  0  0  0]\n",
      " [ 0  0  0 12  0  0  0]\n",
      " [ 0  0  0 53  0  0  0]\n",
      " [ 0  0  0 11  0  0  0]\n",
      " [ 0  0  0  7  0  0  0]\n",
      " [ 0  0  0 14  0  0  0]]\n",
      "\n",
      "Fold 10:\n",
      "Precision: 0.17144775390625\n",
      "Recall: 0.4140625\n",
      "F1-Score: 0.24248964088397787\n",
      "Confusion Matrix:\n",
      "[[ 0  0  0  7  0  0  0]\n",
      " [ 0  0  0 24  0  0  0]\n",
      " [ 0  0  0 12  0  0  0]\n",
      " [ 0  0  0 53  0  0  0]\n",
      " [ 0  0  0 11  0  0  0]\n",
      " [ 0  0  0  7  0  0  0]\n",
      " [ 0  0  0 14  0  0  0]]\n"
     ]
    }
   ],
   "source": [
    "# Print precision, recall, f1-score, and confusion matrix for each fold\n",
    "for i in range(num_folds):\n",
    "    print(f\"\\nFold {i+1}:\")\n",
    "    print(f\"Precision: {precisions[i]}\")\n",
    "    print(f\"Recall: {recalls[i]}\")\n",
    "    print(f\"F1-Score: {f1_scores[i]}\")\n",
    "    print(\"Confusion Matrix:\")\n",
    "    print(conf_matrices[i])"
   ]
  },
  {
   "cell_type": "code",
   "execution_count": 16,
   "id": "94bc57dc-c59c-44e8-b464-e8826e59fcba",
   "metadata": {},
   "outputs": [],
   "source": [
    "# Compute mean and standard deviation of tpr\n",
    "mean_tpr = np.mean(tprs, axis=0)\n",
    "mean_auc = auc(mean_fpr, mean_tpr)\n",
    "std_auc = np.std(aucs)"
   ]
  },
  {
   "cell_type": "code",
   "execution_count": 17,
   "id": "7f8b8f7e-8ff7-4c64-81aa-cb48dbcddac4",
   "metadata": {},
   "outputs": [
    {
     "data": {
      "image/png": "[encoded data removed]",
      "text/plain": [
       "<Figure size 800x600 with 1 Axes>"
      ]
     },
     "metadata": {},
     "output_type": "display_data"
    }
   ],
   "source": [
    "# Plot ROC curve\n",
    "plt.figure(figsize=(8, 6))\n",
    "plt.plot(mean_fpr, mean_tpr, color='b', label=f'Mean ROC (AUC = {mean_auc:.2f} $\\pm$ {std_auc:.2f})', lw=2)\n",
    "plt.plot([0, 1], [0, 1], color='gray', linestyle='--')\n",
    "plt.xlabel('False Positive Rate')\n",
    "plt.ylabel('True Positive Rate')\n",
    "plt.title('Receiver Operating Characteristic (ROC) Curve')\n",
    "plt.legend(loc='lower right')\n",
    "plt.grid(True)\n",
    "plt.show()"
   ]
  },
  {
   "cell_type": "code",
   "execution_count": null,
   "id": "e02d63cb-d8d2-4918-8597-1516bb25f09f",
   "metadata": {},
   "outputs": [],
   "source": []
  }
 ],
 "metadata": {
  "kernelspec": {
   "display_name": "Python 3 (ipykernel)",
   "language": "python",
   "name": "python3"
  },
  "language_info": {
   "codemirror_mode": {
    "name": "ipython",
    "version": 3
   },
   "file_extension": ".py",
   "mimetype": "text/x-python",
   "name": "python",
   "nbconvert_exporter": "python",
   "pygments_lexer": "ipython3",
   "version": "3.9.18"
  }
 },
 "nbformat": 4,
 "nbformat_minor": 5
}
